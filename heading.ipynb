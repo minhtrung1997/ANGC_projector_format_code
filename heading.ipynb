{
 "cells": [
  {
   "cell_type": "code",
   "execution_count": null,
   "metadata": {},
   "outputs": [],
   "source": [
    "# Please convert a rtf file to a docx file before running this code\n",
    "# Format heading of text in a docx file"
   ]
  },
  {
   "cell_type": "code",
   "execution_count": 2,
   "metadata": {},
   "outputs": [],
   "source": [
    "import docx\n",
    "import os, sys\n",
    "\n",
    "# Get the path of the file\n",
    "docx_path = 'Danh sách bài hát ngợi khen.docx'\n",
    "# Parse the file in docx format\n",
    "doc = docx.Document(docx_path)\n",
    "\n",
    "# Get the text of the file\n",
    "text = []\n",
    "for para in doc.paragraphs:\n",
    "    text.append(para.text)\n",
    "\n",
    "# Find the heading lines of the text which are in bold and contain the string '(O)' or '(W)' or '(P)' then convert them to heading 2 format\n",
    "for i in range(len(text)):\n",
    "    if text[i].endswith('(O)') or text[i].endswith('(W)') or text[i].endswith('(P)'):\n",
    "        # remove the break line character at the beginning of the line (if any) but keep the break line\n",
    "        if text[i].startswith('\\n'):\n",
    "            doc.paragraphs[i].text = text[i][1:]\n",
    "        else:\n",
    "            doc.paragraphs[i].text = text[i]\n",
    "        doc.paragraphs[i].style = 'Heading 2'\n",
    "        if i > 1:\n",
    "            doc.paragraphs[i-1].text = doc.paragraphs[i-1].text + ' (Finished the song)'\n",
    "            # Add page break at the end of the previous line\n",
    "            doc.paragraphs[i-1].runs[0].add_break(docx.enum.text.WD_BREAK.PAGE)\n",
    "\n",
    "# Find the line contain 'INDEX' case sensitive string and remove it and all the lines after it\n",
    "for i in range(len(text)):\n",
    "    if text[i].startswith('INDEX'):\n",
    "        for j in range(i, len(text)):\n",
    "            doc.paragraphs[j].clear()\n",
    "        break\n",
    "\n",
    "# Save the file\n",
    "doc.save('Danh sách bài hát ngợi khen.docx')\n",
    "\n"
   ]
  },
  {
   "cell_type": "markdown",
   "metadata": {},
   "source": [
    "## The code line format the text to bold and italic\n",
    "#### Find the string 'PreChorus' or 'Chorus' or 'Bridge' or 'End' then convert to Bold format and add ':' if the next character is not ':'\n",
    "#### Only find and process on the matching strings, not the whole text lines containing the matching strings\n",
    "### First add ':' to the matching strings if the next character is not ':'\n",
    "\n",
    "### But it fails, so we should do it manually\n",
    "```\n",
    "list_of_strings = ['PreChorus\\t', 'Chorus\\t', 'Bridge\\t', 'End\\t']\n",
    "\n",
    "for string_text in list_of_strings:\n",
    "    lenString = len(string_text)\n",
    "    for old_para in doc.paragraphs:\n",
    "        # Find string_text in the old_para \n",
    "        if old_para.text.find(string_text) >= 0:\n",
    "            #insert, not add, empty paragraph with the same style as the old paragraph\n",
    "            new_para = old_para.insert_paragraph_before('', old_para.style)\n",
    "            #get all the text from the old paragraph\n",
    "            para_text = old_para.text\n",
    "\n",
    "            #determine sections of text before and after text to bold\n",
    "            index = para_text.index(string_text)\n",
    "            before = para_text[0:index]\n",
    "            after = para_text[index + lenString:]\n",
    "            print(index, \",\", before, \",\", after)\n",
    "\n",
    "            #reconstruct the paragraph as three runs\n",
    "            new_para.add_run(before)\n",
    "            #add your bolded text\n",
    "            run = new_para.add_run(string_text)\n",
    "            run.bold = True\n",
    "            run.italic = True\n",
    "            # replace the character '\\t' with ':\\t' in string_text\n",
    "            if string_text[-1] != ':':\n",
    "                string_text = string_text[:-1] + ':\\t'\n",
    "            run.text = string_text\n",
    "            new_para.add_run(after)\n",
    "            # remove the break line character at end of new_para\n",
    "            if new_para.text[-1] == '\\n':\n",
    "                new_para.text = new_para.text[:-1]\n",
    "            #delete the old paragraph ưithout leaving a blank line\n",
    "            old_para.clear()\n",
    "```"
   ]
  }
 ],
 "metadata": {
  "kernelspec": {
   "display_name": "Python 3",
   "language": "python",
   "name": "python3"
  },
  "language_info": {
   "codemirror_mode": {
    "name": "ipython",
    "version": 3
   },
   "file_extension": ".py",
   "mimetype": "text/x-python",
   "name": "python",
   "nbconvert_exporter": "python",
   "pygments_lexer": "ipython3",
   "version": "3.10.4"
  },
  "orig_nbformat": 4
 },
 "nbformat": 4,
 "nbformat_minor": 2
}
